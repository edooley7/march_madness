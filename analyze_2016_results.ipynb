{
 "cells": [
  {
   "cell_type": "code",
   "execution_count": 1,
   "metadata": {
    "collapsed": true
   },
   "outputs": [],
   "source": [
    "import pandas as pd\n",
    "import tweepy\n",
    "import numpy as np\n",
    "import cnfg\n",
    "import matplotlib.pyplot as plt\n",
    "%matplotlib inline\n",
    "import seaborn as sns\n",
    "from sklearn.linear_model import LinearRegression, LogisticRegression\n",
    "from sklearn.preprocessing import StandardScaler\n",
    "import pickle"
   ]
  },
  {
   "cell_type": "code",
   "execution_count": 2,
   "metadata": {
    "collapsed": true
   },
   "outputs": [],
   "source": [
    "round_dict = {1:1,\n",
    "              2:2,\n",
    "              4:3,\n",
    "              8:4,\n",
    "              16:5,\n",
    "              32:6,\n",
    "              64:7}"
   ]
  },
  {
   "cell_type": "code",
   "execution_count": 3,
   "metadata": {
    "collapsed": false
   },
   "outputs": [],
   "source": [
    "handles = pd.read_csv(\"twitter_handles_2016.csv\")\n",
    "tweet_data = pd.read_csv(\"tweet_data.csv\")\n",
    "tweet_data.username = tweet_data.username.str.lower()"
   ]
  },
  {
   "cell_type": "code",
   "execution_count": 4,
   "metadata": {
    "collapsed": false
   },
   "outputs": [],
   "source": [
    "df = handles.merge(tweet_data, how = \"left\", left_on = \"twitter_handle\", right_on = \"username\")\n",
    "df = df.drop(\"username\", axis = 1)"
   ]
  },
  {
   "cell_type": "code",
   "execution_count": 5,
   "metadata": {
    "collapsed": true
   },
   "outputs": [],
   "source": [
    "# Last year I didn't get results for Michigan - dropping them\n",
    "df = df.dropna()"
   ]
  },
  {
   "cell_type": "code",
   "execution_count": 6,
   "metadata": {
    "collapsed": false
   },
   "outputs": [],
   "source": [
    "tweet_features = ['num_favorites', 'num_followers', 'num_friends', 'num_statuses', 'retweet_avg', 'seed']\n",
    "rank_features = [feature + \"_rank\" for feature in tweet_features]\n",
    "all_features = tweet_features + rank_features\n",
    "for feature in tweet_features:\n",
    "    df[feature + \"_rank\"] = df[feature].rank(ascending = False)\n",
    "df['average_rank'] = df[rank_features].mean(axis = 1)"
   ]
  },
  {
   "cell_type": "code",
   "execution_count": 7,
   "metadata": {
    "collapsed": false
   },
   "outputs": [],
   "source": [
    "df['round_reached_linear'] = df.round_reached.map(round_dict)"
   ]
  },
  {
   "cell_type": "code",
   "execution_count": 8,
   "metadata": {
    "collapsed": true
   },
   "outputs": [],
   "source": [
    "y = df.round_reached\n",
    "x = df[all_features]"
   ]
  },
  {
   "cell_type": "code",
   "execution_count": 9,
   "metadata": {
    "collapsed": false
   },
   "outputs": [],
   "source": [
    "standard_scaler = StandardScaler()\n",
    "x = standard_scaler.fit_transform(x)"
   ]
  },
  {
   "cell_type": "code",
   "execution_count": 10,
   "metadata": {
    "collapsed": false
   },
   "outputs": [
    {
     "data": {
      "text/plain": [
       "0.46721730432053254"
      ]
     },
     "execution_count": 10,
     "metadata": {},
     "output_type": "execute_result"
    }
   ],
   "source": [
    "model = LinearRegression()\n",
    "model.fit(x, y)\n",
    "model.score(x, y)"
   ]
  },
  {
   "cell_type": "code",
   "execution_count": 11,
   "metadata": {
    "collapsed": true
   },
   "outputs": [],
   "source": [
    "with open('march_madness_2016_model.pickle', 'wb') as filename:\n",
    "    pickle.dump(model, filename)"
   ]
  },
  {
   "cell_type": "code",
   "execution_count": 12,
   "metadata": {
    "collapsed": false
   },
   "outputs": [
    {
     "data": {
      "text/html": [
       "<div>\n",
       "<table border=\"1\" class=\"dataframe\">\n",
       "  <thead>\n",
       "    <tr style=\"text-align: right;\">\n",
       "      <th></th>\n",
       "      <th>coefficients</th>\n",
       "    </tr>\n",
       "  </thead>\n",
       "  <tbody>\n",
       "    <tr>\n",
       "      <th>num_followers</th>\n",
       "      <td>-1.119890e+06</td>\n",
       "    </tr>\n",
       "    <tr>\n",
       "      <th>retweet_avg</th>\n",
       "      <td>-5.913339e+05</td>\n",
       "    </tr>\n",
       "    <tr>\n",
       "      <th>seed</th>\n",
       "      <td>-4.880793e+05</td>\n",
       "    </tr>\n",
       "    <tr>\n",
       "      <th>num_friends</th>\n",
       "      <td>-4.563045e+05</td>\n",
       "    </tr>\n",
       "    <tr>\n",
       "      <th>retweet_avg_rank</th>\n",
       "      <td>-4.273896e+05</td>\n",
       "    </tr>\n",
       "    <tr>\n",
       "      <th>num_friends_rank</th>\n",
       "      <td>-3.988776e+05</td>\n",
       "    </tr>\n",
       "    <tr>\n",
       "      <th>seed_rank</th>\n",
       "      <td>-3.522837e+05</td>\n",
       "    </tr>\n",
       "    <tr>\n",
       "      <th>num_favorites_rank</th>\n",
       "      <td>-2.151888e+05</td>\n",
       "    </tr>\n",
       "    <tr>\n",
       "      <th>num_followers_rank</th>\n",
       "      <td>-2.068855e+05</td>\n",
       "    </tr>\n",
       "    <tr>\n",
       "      <th>num_favorites</th>\n",
       "      <td>-1.769674e+05</td>\n",
       "    </tr>\n",
       "    <tr>\n",
       "      <th>num_statuses_rank</th>\n",
       "      <td>-1.270110e+05</td>\n",
       "    </tr>\n",
       "    <tr>\n",
       "      <th>num_statuses</th>\n",
       "      <td>-1.002595e+05</td>\n",
       "    </tr>\n",
       "  </tbody>\n",
       "</table>\n",
       "</div>"
      ],
      "text/plain": [
       "                    coefficients\n",
       "num_followers      -1.119890e+06\n",
       "retweet_avg        -5.913339e+05\n",
       "seed               -4.880793e+05\n",
       "num_friends        -4.563045e+05\n",
       "retweet_avg_rank   -4.273896e+05\n",
       "num_friends_rank   -3.988776e+05\n",
       "seed_rank          -3.522837e+05\n",
       "num_favorites_rank -2.151888e+05\n",
       "num_followers_rank -2.068855e+05\n",
       "num_favorites      -1.769674e+05\n",
       "num_statuses_rank  -1.270110e+05\n",
       "num_statuses       -1.002595e+05"
      ]
     },
     "execution_count": 12,
     "metadata": {},
     "output_type": "execute_result"
    }
   ],
   "source": [
    "coefs = pd.DataFrame.from_dict(dict(zip(all_features, model.predict(df[all_features]))), \n",
    "                               orient = 'index')\n",
    "coefs.columns = [\"coefficients\"]\n",
    "coefs.sort_values(\"coefficients\")"
   ]
  },
  {
   "cell_type": "code",
   "execution_count": 13,
   "metadata": {
    "collapsed": false
   },
   "outputs": [],
   "source": [
    "df['prediction'] = model.predict(x)\n",
    "df['prediction_rank'] = df.prediction.rank()\n",
    "df = df.sort_values(\"round_reached\")"
   ]
  },
  {
   "cell_type": "code",
   "execution_count": 14,
   "metadata": {
    "collapsed": true
   },
   "outputs": [],
   "source": [
    "df.to_csv(\"march_madness_2017_predictions.csv\", index = False)"
   ]
  },
  {
   "cell_type": "code",
   "execution_count": 16,
   "metadata": {
    "collapsed": false
   },
   "outputs": [
    {
     "data": {
      "text/plain": [
       "<matplotlib.axes._subplots.AxesSubplot at 0x10ad434d0>"
      ]
     },
     "execution_count": 16,
     "metadata": {},
     "output_type": "execute_result"
    },
    {
     "name": "stderr",
     "output_type": "stream",
     "text": [
      "//anaconda/lib/python2.7/site-packages/matplotlib/collections.py:590: FutureWarning: elementwise comparison failed; returning scalar instead, but in the future will perform elementwise comparison\n",
      "  if self._edgecolors == str('face'):\n"
     ]
    },
    {
     "data": {
      "image/png": "[encoded data removed]",
      "text/plain": [
       "<matplotlib.figure.Figure at 0x10ad34cd0>"
      ]
     },
     "metadata": {},
     "output_type": "display_data"
    }
   ],
   "source": [
    "sns.regplot(data = df, x = \"round_reached\", y = \"prediction_rank\")"
   ]
  },
  {
   "cell_type": "code",
   "execution_count": 17,
   "metadata": {
    "collapsed": false
   },
   "outputs": [
    {
     "data": {
      "text/plain": [
       "<matplotlib.axes._subplots.AxesSubplot at 0x10afd9e90>"
      ]
     },
     "execution_count": 17,
     "metadata": {},
     "output_type": "execute_result"
    },
    {
     "data": {
      "image/png": "[encoded data removed]",
      "text/plain": [
       "<matplotlib.figure.Figure at 0x10add88d0>"
      ]
     },
     "metadata": {},
     "output_type": "display_data"
    }
   ],
   "source": [
    "sns.regplot(data = df, x = \"round_reached\", y = \"prediction\")"
   ]
  },
  {
   "cell_type": "code",
   "execution_count": 18,
   "metadata": {
    "collapsed": false
   },
   "outputs": [
    {
     "data": {
      "text/plain": [
       "<matplotlib.axes._subplots.AxesSubplot at 0x10b9a2fd0>"
      ]
     },
     "execution_count": 18,
     "metadata": {},
     "output_type": "execute_result"
    },
    {
     "data": {
      "image/png": "[encoded data removed]",
      "text/plain": [
       "<matplotlib.figure.Figure at 0x10bb77c90>"
      ]
     },
     "metadata": {},
     "output_type": "display_data"
    }
   ],
   "source": [
    "sns.regplot(data = df, x = \"round_reached\", y = \"average_rank\")"
   ]
  },
  {
   "cell_type": "code",
   "execution_count": null,
   "metadata": {
    "collapsed": true
   },
   "outputs": [],
   "source": []
  }
 ],
 "metadata": {
  "kernelspec": {
   "display_name": "Python 2",
   "language": "python",
   "name": "python2"
  },
  "language_info": {
   "codemirror_mode": {
    "name": "ipython",
    "version": 2
   },
   "file_extension": ".py",
   "mimetype": "text/x-python",
   "name": "python",
   "nbconvert_exporter": "python",
   "pygments_lexer": "ipython2",
   "version": "2.7.12"
  }
 },
 "nbformat": 4,
 "nbformat_minor": 0
}

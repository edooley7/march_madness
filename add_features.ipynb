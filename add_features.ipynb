{
 "cells": [
  {
   "cell_type": "code",
   "execution_count": 1,
   "metadata": {
    "collapsed": true
   },
   "outputs": [],
   "source": [
    "import pandas as pd\n",
    "import numpy as np\n",
    "import matplotlib.pyplot as plt\n",
    "%matplotlib inline\n",
    "import seaborn as sns"
   ]
  },
  {
   "cell_type": "code",
   "execution_count": 2,
   "metadata": {
    "collapsed": true
   },
   "outputs": [],
   "source": [
    "this_year = '2018'\n",
    "last_year = str(int(this_year)-1)"
   ]
  },
  {
   "cell_type": "code",
   "execution_count": 3,
   "metadata": {
    "collapsed": true
   },
   "outputs": [],
   "source": [
    "df = pd.read_csv('Output/march_madness_tweet_data_' + this_year + '.csv')"
   ]
  },
  {
   "cell_type": "code",
   "execution_count": 4,
   "metadata": {
    "collapsed": true
   },
   "outputs": [],
   "source": [
    "# Rank all features\n",
    "tweet_features = ['num_favorites', 'num_followers', 'num_friends', 'num_statuses', 'retweet_avg', 'seed']\n",
    "rank_features = [feature + \"_rank\" for feature in tweet_features]\n",
    "all_features = tweet_features + rank_features\n",
    "for feature in tweet_features:\n",
    "    if feature != 'seed':\n",
    "        df[feature + \"_rank\"] = df[feature].rank(ascending = False)\n",
    "    else:\n",
    "        df[feature + \"_rank\"] = df[feature].rank(ascending = True)\n",
    "df['average_rank'] = df[rank_features].mean(axis = 1)"
   ]
  },
  {
   "cell_type": "code",
   "execution_count": 5,
   "metadata": {
    "collapsed": true,
    "scrolled": true
   },
   "outputs": [],
   "source": [
    "# Use prior year model to predict this years results\n",
    "prior_year_model = pd.read_pickle('Output/march_madness_model_' + last_year + '.pickle')\n",
    "x = df[all_features]\n",
    "df['py_model_prediction'] = prior_year_model.predict(x)\n",
    "df['py_model_prediction_rank'] = df.py_model_prediction.rank()"
   ]
  },
  {
   "cell_type": "code",
   "execution_count": 7,
   "metadata": {},
   "outputs": [],
   "source": [
    "# Export current year predictions\n",
    "df.to_csv('Output/march_madness_final_predictions_' + this_year + '.csv')"
   ]
  },
  {
   "cell_type": "code",
   "execution_count": null,
   "metadata": {
    "collapsed": true
   },
   "outputs": [],
   "source": []
  }
 ],
 "metadata": {
  "kernelspec": {
   "display_name": "Python 3",
   "language": "python",
   "name": "python3"
  },
  "language_info": {
   "codemirror_mode": {
    "name": "ipython",
    "version": 3
   },
   "file_extension": ".py",
   "mimetype": "text/x-python",
   "name": "python",
   "nbconvert_exporter": "python",
   "pygments_lexer": "ipython3",
   "version": "3.5.3"
  }
 },
 "nbformat": 4,
 "nbformat_minor": 2
}

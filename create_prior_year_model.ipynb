{
 "cells": [
  {
   "cell_type": "code",
   "execution_count": 1,
   "metadata": {
    "collapsed": true
   },
   "outputs": [],
   "source": [
    "import pandas as pd\n",
    "import numpy as np\n",
    "from sklearn.linear_model import LinearRegression, LogisticRegression\n",
    "from sklearn.preprocessing import StandardScaler\n",
    "import pickle"
   ]
  },
  {
   "cell_type": "code",
   "execution_count": 2,
   "metadata": {
    "collapsed": true
   },
   "outputs": [],
   "source": [
    "round_dict = {1:1,\n",
    "              2:2,\n",
    "              4:3,\n",
    "              8:4,\n",
    "              16:5,\n",
    "              32:6,\n",
    "              64:7}"
   ]
  },
  {
   "cell_type": "code",
   "execution_count": 3,
   "metadata": {
    "collapsed": true
   },
   "outputs": [],
   "source": [
    "this_year = '2018'\n",
    "last_year = str(int(this_year)-1)"
   ]
  },
  {
   "cell_type": "code",
   "execution_count": 4,
   "metadata": {
    "collapsed": true
   },
   "outputs": [],
   "source": [
    "# Read and combine last year's data\n",
    "results_df = pd.read_csv('Input/march_madness_results_' + last_year + '.csv')\n",
    "twitter_df = pd.read_csv('Input/march_madness_tweet_data_' + last_year + '.csv')\n",
    "df = twitter_df.merge(results_df,\n",
    "                      how = 'left', \n",
    "                      on = ['seed', \n",
    "                            'conference',\n",
    "                            'seed_conference',\n",
    "                            'team', \n",
    "                            'twitter_handle'])"
   ]
  },
  {
   "cell_type": "code",
   "execution_count": 5,
   "metadata": {
    "collapsed": true
   },
   "outputs": [],
   "source": [
    "# Add ranks for prior year Twitter data\n",
    "tweet_features = ['num_favorites', 'num_followers', 'num_friends', 'num_statuses', 'retweet_avg', 'seed']\n",
    "rank_features = [feature + \"_rank\" for feature in tweet_features]\n",
    "all_features = tweet_features + rank_features\n",
    "for feature in tweet_features:\n",
    "    if feature != 'seed':\n",
    "        df[feature + \"_rank\"] = df[feature].rank(ascending = False)\n",
    "    else:\n",
    "        df[feature + \"_rank\"] = df[feature].rank(ascending = True)\n",
    "df['average_rank'] = df[rank_features].mean(axis = 1)"
   ]
  },
  {
   "cell_type": "code",
   "execution_count": 6,
   "metadata": {
    "collapsed": true
   },
   "outputs": [],
   "source": [
    "# Make a linear round_reached feature for reference\n",
    "df['round_reached_linear'] = df.round_reached.map(round_dict)"
   ]
  },
  {
   "cell_type": "code",
   "execution_count": 7,
   "metadata": {
    "collapsed": true
   },
   "outputs": [],
   "source": [
    "# Set up features to predict\n",
    "y = df.round_reached\n",
    "x = df[all_features]\n",
    "\n",
    "standard_scaler = StandardScaler()\n",
    "x = standard_scaler.fit_transform(x)"
   ]
  },
  {
   "cell_type": "code",
   "execution_count": 8,
   "metadata": {},
   "outputs": [
    {
     "name": "stdout",
     "output_type": "stream",
     "text": [
      "Model accuracy:  0.600947396053\n"
     ]
    }
   ],
   "source": [
    "# Fit and score model\n",
    "model = LinearRegression()\n",
    "model.fit(x, y)\n",
    "print('Model accuracy: ', model.score(x, y))"
   ]
  },
  {
   "cell_type": "code",
   "execution_count": 9,
   "metadata": {
    "collapsed": true
   },
   "outputs": [],
   "source": [
    "# Export model for use on current year data\n",
    "with open('Output/march_madness_model_' + last_year + '.pickle', 'wb') as filename:\n",
    "    pickle.dump(model, filename)"
   ]
  },
  {
   "cell_type": "code",
   "execution_count": 10,
   "metadata": {
    "collapsed": true
   },
   "outputs": [],
   "source": [
    "# Export features and results together for exploration\n",
    "df['py_model_prediction'] = model.predict(x)\n",
    "df['py_model_prediction_rank'] = df.py_model_prediction.rank()\n",
    "df = df.sort_values('round_reached')\n",
    "df.to_csv('Output/march_madness_predictions_' + last_year + '.csv')"
   ]
  },
  {
   "cell_type": "code",
   "execution_count": null,
   "metadata": {
    "collapsed": true
   },
   "outputs": [],
   "source": []
  }
 ],
 "metadata": {
  "kernelspec": {
   "display_name": "Python 3",
   "language": "python",
   "name": "python3"
  },
  "language_info": {
   "codemirror_mode": {
    "name": "ipython",
    "version": 3
   },
   "file_extension": ".py",
   "mimetype": "text/x-python",
   "name": "python",
   "nbconvert_exporter": "python",
   "pygments_lexer": "ipython3",
   "version": "3.5.3"
  }
 },
 "nbformat": 4,
 "nbformat_minor": 2
}
